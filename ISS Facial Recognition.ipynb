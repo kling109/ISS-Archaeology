{
 "cells": [
  {
   "cell_type": "code",
   "execution_count": 37,
   "metadata": {},
   "outputs": [],
   "source": [
    "import face_recognition # https://github.com/ageitgey/face_recognition\n",
    "from PIL import Image # https://pillow.readthedocs.io/en/stable/\n"
   ]
  },
  {
   "cell_type": "code",
   "execution_count": 7,
   "metadata": {},
   "outputs": [],
   "source": [
    "image = face_recognition.load_image_file(\"test.jpg\")\n",
    "face_locations = face_recognition.face_locations(image)"
   ]
  },
  {
   "cell_type": "code",
   "execution_count": 29,
   "metadata": {},
   "outputs": [],
   "source": [
    "def transformCoord(coordinates):\n",
    "    return (coordinates[3], coordinates[0], coordinates[1], coordinates[2])"
   ]
  },
  {
   "cell_type": "code",
   "execution_count": 36,
   "metadata": {},
   "outputs": [
    {
     "data": {
      "image/png": "[encoded data removed]",
      "text/plain": [
       "<PIL.Image.Image image mode=RGB size=36x36 at 0x10ECBF8D0>"
      ]
     },
     "execution_count": 36,
     "metadata": {},
     "output_type": "execute_result"
    }
   ],
   "source": [
    "# (x, y, w+x, h+y)\n",
    "# facial = (top, right, bottom, left)\n",
    "# Other = (left, top, right, down)\n",
    "\n",
    "for i in face_locations:\n",
    "    Image.open(\"test.jpg\").crop(tfCoord(i))\n",
    "\n",
    "Image.open(\"test.jpg\").crop(tfCoord(face_locations[0]))\n",
    "Image.open(\"test.jpg\").crop(tfCoord(face_locations[1]))\n",
    "Image.open(\"test.jpg\").crop(tfCoord(face_locations[2]))"
   ]
  },
  {
   "cell_type": "code",
   "execution_count": null,
   "metadata": {},
   "outputs": [],
   "source": []
  }
 ],
 "metadata": {
  "kernelspec": {
   "display_name": "Python 3",
   "language": "python",
   "name": "python3"
  },
  "language_info": {
   "codemirror_mode": {
    "name": "ipython",
    "version": 3
   },
   "file_extension": ".py",
   "mimetype": "text/x-python",
   "name": "python",
   "nbconvert_exporter": "python",
   "pygments_lexer": "ipython3",
   "version": "3.7.3"
  }
 },
 "nbformat": 4,
 "nbformat_minor": 2
}
