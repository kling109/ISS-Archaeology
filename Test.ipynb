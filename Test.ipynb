{
 "cells": [
  {
   "cell_type": "code",
   "execution_count": 1,
   "metadata": {},
   "outputs": [],
   "source": [
    "import face_recognition"
   ]
  },
  {
   "cell_type": "code",
   "execution_count": 3,
   "metadata": {},
   "outputs": [],
   "source": [
    "known_image = face_recognition.load_image_file(\"./temp/Andre_Kuipers-Andre_Kuipers.jpg\")\n",
    "unknown_image = face_recognition.load_image_file(\"Andre Kuipers.jpg\")\n",
    "\n",
    "biden_encoding = face_recognition.face_encodings(known_image)[0]\n",
    "unknown_encoding = face_recognition.face_encodings(unknown_image)[0]\n",
    "\n",
    "results = face_recognition.compare_faces([biden_encoding], unknown_encoding)"
   ]
  },
  {
   "cell_type": "code",
   "execution_count": 4,
   "metadata": {},
   "outputs": [
    {
     "name": "stdout",
     "output_type": "stream",
     "text": [
      "[True]\n"
     ]
    }
   ],
   "source": [
    "print(results)"
   ]
  },
  {
   "cell_type": "code",
   "execution_count": 5,
   "metadata": {},
   "outputs": [],
   "source": [
    "import face_recognition\n",
    "import pickle"
   ]
  },
  {
   "cell_type": "code",
   "execution_count": 6,
   "metadata": {},
   "outputs": [],
   "source": [
    "all_face_encodings[\"andre\"] = biden_encoding\n",
    "\n",
    "with open('dataset_faces.dat', 'wb') as f:\n",
    "    pickle.dump(all_face_encodings, f)"
   ]
  },
  {
   "cell_type": "code",
   "execution_count": 7,
   "metadata": {},
   "outputs": [],
   "source": [
    "all_face_encodings = {}"
   ]
  },
  {
   "cell_type": "code",
   "execution_count": 9,
   "metadata": {},
   "outputs": [],
   "source": [
    "with open('dataset_faces.dat', 'rb') as f:\n",
    "\tall_face_encodings = pickle.load(f)"
   ]
  },
  {
   "cell_type": "code",
   "execution_count": 10,
   "metadata": {
    "collapsed": true
   },
   "outputs": [
    {
     "name": "stdout",
     "output_type": "stream",
     "text": [
      "{'andre': array([-1.07748538e-01,  6.71436861e-02,  7.08326511e-03, -7.85981789e-02,\n",
      "       -9.34393927e-02,  6.81342036e-02,  1.19204879e-01, -7.35353753e-02,\n",
      "        9.95738059e-02,  9.92274471e-03,  2.43921995e-01, -1.26286335e-02,\n",
      "       -3.63982916e-01, -5.44037409e-02, -4.95085716e-02,  1.19614005e-01,\n",
      "       -1.36925548e-01, -2.58876458e-02, -1.83205232e-01, -1.30952448e-01,\n",
      "       -1.87095273e-02,  1.06651708e-01,  1.40046105e-02,  3.69008183e-02,\n",
      "       -1.47107854e-01, -2.58380592e-01,  1.48538202e-02, -1.13640651e-01,\n",
      "        1.01295859e-03, -1.07250288e-01,  9.84422043e-02,  1.71627969e-01,\n",
      "       -1.31654546e-01, -2.72785425e-02, -2.94895545e-02,  9.43265855e-03,\n",
      "       -1.13496333e-01, -5.15081696e-02,  2.13860452e-01,  7.05444515e-02,\n",
      "       -1.39747411e-01, -3.99232358e-02,  2.98992991e-02,  3.86038721e-01,\n",
      "        1.80317074e-01, -4.54459786e-02,  1.49316005e-02, -7.73643255e-02,\n",
      "        8.65458772e-02, -2.99070746e-01,  2.16521397e-02,  1.29339486e-01,\n",
      "        8.64399821e-02,  6.69582486e-02,  9.74163413e-05, -1.46309391e-01,\n",
      "        5.62225580e-02,  4.00130898e-02, -2.99203008e-01,  2.03944035e-02,\n",
      "        3.24221253e-02, -1.67502716e-01, -1.02968901e-01, -8.28566551e-02,\n",
      "        1.68246537e-01,  8.89069289e-02, -9.68167558e-02, -1.01367868e-01,\n",
      "        1.90847829e-01, -1.46385312e-01, -8.60675797e-02,  4.44696844e-02,\n",
      "       -1.34764686e-01, -1.83683008e-01, -3.16084117e-01,  7.38673508e-02,\n",
      "        3.31530124e-01,  1.66965872e-01, -1.60797745e-01,  6.01323955e-02,\n",
      "       -8.59966204e-02, -1.90939680e-02,  8.37582275e-02,  1.03029147e-01,\n",
      "       -7.70932361e-02, -2.86566913e-02, -3.48665193e-02,  9.03801769e-02,\n",
      "        9.85832587e-02, -1.00375287e-01, -1.09210700e-01,  2.43804842e-01,\n",
      "        7.54469410e-02, -1.05542749e-01,  1.03579134e-01,  3.59863639e-02,\n",
      "       -9.40369666e-02,  2.06681862e-02, -1.33963794e-01, -3.85965407e-03,\n",
      "        1.26162887e-01, -1.36968791e-01,  1.09765001e-01,  5.49075007e-02,\n",
      "       -1.78522497e-01,  2.87640274e-01,  4.87549454e-02, -3.12544368e-02,\n",
      "        8.00375864e-02, -1.34840339e-01, -8.20497572e-02,  5.99434972e-03,\n",
      "        2.20920950e-01, -2.51045585e-01,  2.25224733e-01,  1.35522693e-01,\n",
      "        3.75352986e-02,  1.73541397e-01,  8.08554292e-02,  7.33821318e-02,\n",
      "       -4.92497683e-02,  2.66966820e-02, -1.44470409e-01, -6.88729882e-02,\n",
      "        1.31834462e-01, -1.37716159e-02,  7.84685612e-02,  3.78532931e-02])}\n"
     ]
    }
   ],
   "source": [
    "print(all_face_encodings)"
   ]
  },
  {
   "cell_type": "code",
   "execution_count": 75,
   "metadata": {},
   "outputs": [],
   "source": [
    "class astro:\n",
    "    fName = \"\"\n",
    "    lName = \"\"\n",
    "    mName = \"\"\n",
    "    country = \"\"\n",
    "    facialData = None\n",
    "    filename = \"\"\n",
    "    \n",
    "    def __init__(self, country: str, fName : str, lName : str, mName  = \"\"):\n",
    "        self.fName = fName\n",
    "        self.lName = lName\n",
    "        self.mName = mName\n",
    "        self.country = country\n",
    "        self.filename = \"{0}_{1}&{2}\".format(fName, lName, country)\n",
    "        \n",
    "    def trainModel(self, imageFilepath):\n",
    "        known = face_recognition.load_image_file(imageFilepath)\n",
    "        self.facialData = face_recognition.face_encodings(known)[0]\n",
    "    \n",
    "    def saveData(self, filePath = \"\"):\n",
    "        tempDict = {}\n",
    "        tempDict[self.filename] = self.facialData\n",
    "        with open(\"{0}{1}.dat\".format(filePath, self.filename), 'wb') as f:\n",
    "            pickle.dump(tempDict, f)\n",
    "            \n",
    "    def loadData(self, filePath = \"\"):\n",
    "        tempDict = {}\n",
    "        with open(\"{0}{1}.dat\".format(filePath, self.filename), 'rb') as f:\n",
    "           tempDict = pickle.load(f)\n",
    "        self.facialData = tempDict[self.filename]\n",
    "    \n",
    "    def checkFace(self, faceEncoding):\n",
    "        return face_recognition.compare_faces([self.facialData], faceEncoding)"
   ]
  },
  {
   "cell_type": "code",
   "execution_count": 76,
   "metadata": {},
   "outputs": [],
   "source": [
    "tempAstro = astro(\"usa\", \"andre\", \"kuipers\")\n",
    "tempAstro.trainModel(\"./temp/Andre_Kuipers-Andre_Kuipers.jpg\")"
   ]
  },
  {
   "cell_type": "code",
   "execution_count": 77,
   "metadata": {},
   "outputs": [
    {
     "name": "stdout",
     "output_type": "stream",
     "text": [
      "[True]\n"
     ]
    }
   ],
   "source": [
    "print(tempAstro.checkFace(unknown_encoding))"
   ]
  },
  {
   "cell_type": "code",
   "execution_count": 78,
   "metadata": {
    "collapsed": true
   },
   "outputs": [
    {
     "name": "stdout",
     "output_type": "stream",
     "text": [
      "[-1.07748538e-01  6.71436861e-02  7.08326511e-03 -7.85981789e-02\n",
      " -9.34393927e-02  6.81342036e-02  1.19204879e-01 -7.35353753e-02\n",
      "  9.95738059e-02  9.92274471e-03  2.43921995e-01 -1.26286335e-02\n",
      " -3.63982916e-01 -5.44037409e-02 -4.95085716e-02  1.19614005e-01\n",
      " -1.36925548e-01 -2.58876458e-02 -1.83205232e-01 -1.30952448e-01\n",
      " -1.87095273e-02  1.06651708e-01  1.40046105e-02  3.69008183e-02\n",
      " -1.47107854e-01 -2.58380592e-01  1.48538202e-02 -1.13640651e-01\n",
      "  1.01295859e-03 -1.07250288e-01  9.84422043e-02  1.71627969e-01\n",
      " -1.31654546e-01 -2.72785425e-02 -2.94895545e-02  9.43265855e-03\n",
      " -1.13496333e-01 -5.15081696e-02  2.13860452e-01  7.05444515e-02\n",
      " -1.39747411e-01 -3.99232358e-02  2.98992991e-02  3.86038721e-01\n",
      "  1.80317074e-01 -4.54459786e-02  1.49316005e-02 -7.73643255e-02\n",
      "  8.65458772e-02 -2.99070746e-01  2.16521397e-02  1.29339486e-01\n",
      "  8.64399821e-02  6.69582486e-02  9.74163413e-05 -1.46309391e-01\n",
      "  5.62225580e-02  4.00130898e-02 -2.99203008e-01  2.03944035e-02\n",
      "  3.24221253e-02 -1.67502716e-01 -1.02968901e-01 -8.28566551e-02\n",
      "  1.68246537e-01  8.89069289e-02 -9.68167558e-02 -1.01367868e-01\n",
      "  1.90847829e-01 -1.46385312e-01 -8.60675797e-02  4.44696844e-02\n",
      " -1.34764686e-01 -1.83683008e-01 -3.16084117e-01  7.38673508e-02\n",
      "  3.31530124e-01  1.66965872e-01 -1.60797745e-01  6.01323955e-02\n",
      " -8.59966204e-02 -1.90939680e-02  8.37582275e-02  1.03029147e-01\n",
      " -7.70932361e-02 -2.86566913e-02 -3.48665193e-02  9.03801769e-02\n",
      "  9.85832587e-02 -1.00375287e-01 -1.09210700e-01  2.43804842e-01\n",
      "  7.54469410e-02 -1.05542749e-01  1.03579134e-01  3.59863639e-02\n",
      " -9.40369666e-02  2.06681862e-02 -1.33963794e-01 -3.85965407e-03\n",
      "  1.26162887e-01 -1.36968791e-01  1.09765001e-01  5.49075007e-02\n",
      " -1.78522497e-01  2.87640274e-01  4.87549454e-02 -3.12544368e-02\n",
      "  8.00375864e-02 -1.34840339e-01 -8.20497572e-02  5.99434972e-03\n",
      "  2.20920950e-01 -2.51045585e-01  2.25224733e-01  1.35522693e-01\n",
      "  3.75352986e-02  1.73541397e-01  8.08554292e-02  7.33821318e-02\n",
      " -4.92497683e-02  2.66966820e-02 -1.44470409e-01 -6.88729882e-02\n",
      "  1.31834462e-01 -1.37716159e-02  7.84685612e-02  3.78532931e-02]\n",
      "None\n"
     ]
    }
   ],
   "source": [
    "tempAstro.saveData()\n",
    "print(tempAstro.facialData)\n",
    "tempAstro.facialData = None\n",
    "print(tempAstro.facialData)"
   ]
  },
  {
   "cell_type": "code",
   "execution_count": 79,
   "metadata": {
    "collapsed": true
   },
   "outputs": [
    {
     "ename": "TypeError",
     "evalue": "unsupported operand type(s) for -: 'NoneType' and 'float'",
     "output_type": "error",
     "traceback": [
      "\u001b[0;31m---------------------------------------------------------------------------\u001b[0m",
      "\u001b[0;31mTypeError\u001b[0m                                 Traceback (most recent call last)",
      "\u001b[0;32m<ipython-input-79-87fa0b040909>\u001b[0m in \u001b[0;36m<module>\u001b[0;34m\u001b[0m\n\u001b[0;32m----> 1\u001b[0;31m \u001b[0mprint\u001b[0m\u001b[0;34m(\u001b[0m\u001b[0mtempAstro\u001b[0m\u001b[0;34m.\u001b[0m\u001b[0mcheckFace\u001b[0m\u001b[0;34m(\u001b[0m\u001b[0munknown_encoding\u001b[0m\u001b[0;34m)\u001b[0m\u001b[0;34m)\u001b[0m\u001b[0;34m\u001b[0m\u001b[0;34m\u001b[0m\u001b[0m\n\u001b[0m",
      "\u001b[0;32m<ipython-input-75-80783ba9ecc0>\u001b[0m in \u001b[0;36mcheckFace\u001b[0;34m(self, faceEncoding)\u001b[0m\n\u001b[1;32m     31\u001b[0m \u001b[0;34m\u001b[0m\u001b[0m\n\u001b[1;32m     32\u001b[0m     \u001b[0;32mdef\u001b[0m \u001b[0mcheckFace\u001b[0m\u001b[0;34m(\u001b[0m\u001b[0mself\u001b[0m\u001b[0;34m,\u001b[0m \u001b[0mfaceEncoding\u001b[0m\u001b[0;34m)\u001b[0m\u001b[0;34m:\u001b[0m\u001b[0;34m\u001b[0m\u001b[0;34m\u001b[0m\u001b[0m\n\u001b[0;32m---> 33\u001b[0;31m         \u001b[0;32mreturn\u001b[0m \u001b[0mface_recognition\u001b[0m\u001b[0;34m.\u001b[0m\u001b[0mcompare_faces\u001b[0m\u001b[0;34m(\u001b[0m\u001b[0;34m[\u001b[0m\u001b[0mself\u001b[0m\u001b[0;34m.\u001b[0m\u001b[0mfacialData\u001b[0m\u001b[0;34m]\u001b[0m\u001b[0;34m,\u001b[0m \u001b[0mfaceEncoding\u001b[0m\u001b[0;34m)\u001b[0m\u001b[0;34m\u001b[0m\u001b[0;34m\u001b[0m\u001b[0m\n\u001b[0m",
      "\u001b[0;32m//anaconda3/lib/python3.7/site-packages/face_recognition/api.py\u001b[0m in \u001b[0;36mcompare_faces\u001b[0;34m(known_face_encodings, face_encoding_to_check, tolerance)\u001b[0m\n\u001b[1;32m    220\u001b[0m     \u001b[0;34m:\u001b[0m\u001b[0;32mreturn\u001b[0m\u001b[0;34m:\u001b[0m \u001b[0mA\u001b[0m \u001b[0mlist\u001b[0m \u001b[0mof\u001b[0m \u001b[0;32mTrue\u001b[0m\u001b[0;34m/\u001b[0m\u001b[0;32mFalse\u001b[0m \u001b[0mvalues\u001b[0m \u001b[0mindicating\u001b[0m \u001b[0mwhich\u001b[0m \u001b[0mknown_face_encodings\u001b[0m \u001b[0mmatch\u001b[0m \u001b[0mthe\u001b[0m \u001b[0mface\u001b[0m \u001b[0mencoding\u001b[0m \u001b[0mto\u001b[0m \u001b[0mcheck\u001b[0m\u001b[0;34m\u001b[0m\u001b[0;34m\u001b[0m\u001b[0m\n\u001b[1;32m    221\u001b[0m     \"\"\"\n\u001b[0;32m--> 222\u001b[0;31m     \u001b[0;32mreturn\u001b[0m \u001b[0mlist\u001b[0m\u001b[0;34m(\u001b[0m\u001b[0mface_distance\u001b[0m\u001b[0;34m(\u001b[0m\u001b[0mknown_face_encodings\u001b[0m\u001b[0;34m,\u001b[0m \u001b[0mface_encoding_to_check\u001b[0m\u001b[0;34m)\u001b[0m \u001b[0;34m<=\u001b[0m \u001b[0mtolerance\u001b[0m\u001b[0;34m)\u001b[0m\u001b[0;34m\u001b[0m\u001b[0;34m\u001b[0m\u001b[0m\n\u001b[0m",
      "\u001b[0;32m//anaconda3/lib/python3.7/site-packages/face_recognition/api.py\u001b[0m in \u001b[0;36mface_distance\u001b[0;34m(face_encodings, face_to_compare)\u001b[0m\n\u001b[1;32m     70\u001b[0m         \u001b[0;32mreturn\u001b[0m \u001b[0mnp\u001b[0m\u001b[0;34m.\u001b[0m\u001b[0mempty\u001b[0m\u001b[0;34m(\u001b[0m\u001b[0;34m(\u001b[0m\u001b[0;36m0\u001b[0m\u001b[0;34m)\u001b[0m\u001b[0;34m)\u001b[0m\u001b[0;34m\u001b[0m\u001b[0;34m\u001b[0m\u001b[0m\n\u001b[1;32m     71\u001b[0m \u001b[0;34m\u001b[0m\u001b[0m\n\u001b[0;32m---> 72\u001b[0;31m     \u001b[0;32mreturn\u001b[0m \u001b[0mnp\u001b[0m\u001b[0;34m.\u001b[0m\u001b[0mlinalg\u001b[0m\u001b[0;34m.\u001b[0m\u001b[0mnorm\u001b[0m\u001b[0;34m(\u001b[0m\u001b[0mface_encodings\u001b[0m \u001b[0;34m-\u001b[0m \u001b[0mface_to_compare\u001b[0m\u001b[0;34m,\u001b[0m \u001b[0maxis\u001b[0m\u001b[0;34m=\u001b[0m\u001b[0;36m1\u001b[0m\u001b[0;34m)\u001b[0m\u001b[0;34m\u001b[0m\u001b[0;34m\u001b[0m\u001b[0m\n\u001b[0m\u001b[1;32m     73\u001b[0m \u001b[0;34m\u001b[0m\u001b[0m\n\u001b[1;32m     74\u001b[0m \u001b[0;34m\u001b[0m\u001b[0m\n",
      "\u001b[0;31mTypeError\u001b[0m: unsupported operand type(s) for -: 'NoneType' and 'float'"
     ]
    }
   ],
   "source": [
    "print(tempAstro.checkFace(unknown_encoding))"
   ]
  },
  {
   "cell_type": "code",
   "execution_count": 80,
   "metadata": {},
   "outputs": [],
   "source": [
    "tempAstro.loadData()"
   ]
  },
  {
   "cell_type": "code",
   "execution_count": 82,
   "metadata": {},
   "outputs": [
    {
     "name": "stdout",
     "output_type": "stream",
     "text": [
      "[True]\n"
     ]
    }
   ],
   "source": [
    "print(tempAstro.checkFace(unknown_encoding))"
   ]
  },
  {
   "cell_type": "code",
   "execution_count": null,
   "metadata": {},
   "outputs": [],
   "source": []
  }
 ],
 "metadata": {
  "kernelspec": {
   "display_name": "Python 3",
   "language": "python",
   "name": "python3"
  },
  "language_info": {
   "codemirror_mode": {
    "name": "ipython",
    "version": 3
   },
   "file_extension": ".py",
   "mimetype": "text/x-python",
   "name": "python",
   "nbconvert_exporter": "python",
   "pygments_lexer": "ipython3",
   "version": "3.7.3"
  }
 },
 "nbformat": 4,
 "nbformat_minor": 2
}
