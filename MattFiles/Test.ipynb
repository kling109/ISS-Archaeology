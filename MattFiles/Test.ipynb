{
 "cells": [
  {
   "cell_type": "code",
   "execution_count": 1,
   "metadata": {},
   "outputs": [
    {
     "name": "stdout",
     "output_type": "stream",
     "text": [
      "Requirement already satisfied: face_recognition in c:\\users\\brise\\anaconda3\\lib\\site-packages (1.2.3)\n",
      "Requirement already satisfied: dlib>=19.7 in c:\\users\\brise\\anaconda3\\lib\\site-packages\\dlib-19.19.99-py3.7-win-amd64.egg (from face_recognition) (19.19.99)\n",
      "Requirement already satisfied: Click>=6.0 in c:\\users\\brise\\anaconda3\\lib\\site-packages (from face_recognition) (7.0)\n",
      "Requirement already satisfied: face-recognition-models>=0.3.0 in c:\\users\\brise\\anaconda3\\lib\\site-packages (from face_recognition) (0.3.0)\n",
      "Requirement already satisfied: Pillow in c:\\users\\brise\\anaconda3\\lib\\site-packages (from face_recognition) (6.2.0)\n",
      "Requirement already satisfied: numpy in c:\\users\\brise\\anaconda3\\lib\\site-packages (from face_recognition) (1.16.5)\n",
      "Note: you may need to restart the kernel to use updated packages.\n"
     ]
    }
   ],
   "source": [
    "pip install face_recognition"
   ]
  },
  {
   "cell_type": "code",
   "execution_count": 2,
   "metadata": {},
   "outputs": [],
   "source": [
    "import face_recognition"
   ]
  },
  {
   "cell_type": "code",
   "execution_count": 3,
   "metadata": {},
   "outputs": [],
   "source": [
    "known_image = face_recognition.load_image_file(\"./temp/Andre_Kuipers-Andre_Kuipers.jpg\")\n",
    "unknown_image = face_recognition.load_image_file(\"Andre Kuipers.jpg\")\n",
    "\n",
    "known_encoding = face_recognition.face_encodings(known_image)[0]\n",
    "unknown_encoding = face_recognition.face_encodings(unknown_image)[0]\n",
    "\n",
    "results = face_recognition.compare_faces([known], unknown_encoding)"
   ]
  },
  {
   "cell_type": "code",
   "execution_count": 4,
   "metadata": {},
   "outputs": [
    {
     "name": "stdout",
     "output_type": "stream",
     "text": [
      "[True]\n"
     ]
    }
   ],
   "source": [
    "print(results)"
   ]
  },
  {
   "cell_type": "code",
   "execution_count": 5,
   "metadata": {},
   "outputs": [],
   "source": [
    "import face_recognition\n",
    "import pickle"
   ]
  },
  {
   "cell_type": "code",
   "execution_count": 7,
   "metadata": {},
   "outputs": [],
   "source": [
    "all_face_encodings = {}\n",
    "all_face_encodings[\"andre\"] = biden_encoding\n",
    "\n",
    "with open('dataset_faces.dat', 'wb') as f:\n",
    "    pickle.dump(all_face_encodings, f)"
   ]
  },
  {
   "cell_type": "code",
   "execution_count": 8,
   "metadata": {},
   "outputs": [],
   "source": [
    "with open('dataset_faces.dat', 'rb') as f:\n",
    "\tall_face_encodings = pickle.load(f)"
   ]
  },
  {
   "cell_type": "code",
   "execution_count": 9,
   "metadata": {},
   "outputs": [
    {
     "name": "stdout",
     "output_type": "stream",
     "text": [
      "{'andre': array([-1.07748583e-01,  6.71437606e-02,  7.08322087e-03, -7.85980746e-02,\n",
      "       -9.34392661e-02,  6.81343079e-02,  1.19204886e-01, -7.35354647e-02,\n",
      "        9.95738357e-02,  9.92278010e-03,  2.43922099e-01, -1.26286112e-02,\n",
      "       -3.63982886e-01, -5.44037595e-02, -4.95086461e-02,  1.19614057e-01,\n",
      "       -1.36925593e-01, -2.58876123e-02, -1.83205217e-01, -1.30952448e-01,\n",
      "       -1.87094752e-02,  1.06651708e-01,  1.40046170e-02,  3.69009003e-02,\n",
      "       -1.47107825e-01, -2.58380413e-01,  1.48538752e-02, -1.13640629e-01,\n",
      "        1.01280585e-03, -1.07250296e-01,  9.84421521e-02,  1.71628058e-01,\n",
      "       -1.31654441e-01, -2.72785705e-02, -2.94894464e-02,  9.43278335e-03,\n",
      "       -1.13496356e-01, -5.15081100e-02,  2.13860512e-01,  7.05445483e-02,\n",
      "       -1.39747307e-01, -3.99231985e-02,  2.98993271e-02,  3.86038989e-01,\n",
      "        1.80317104e-01, -4.54459265e-02,  1.49315223e-02, -7.73642361e-02,\n",
      "        8.65459442e-02, -2.99070776e-01,  2.16521174e-02,  1.29339486e-01,\n",
      "        8.64400938e-02,  6.69583455e-02,  9.74070281e-05, -1.46309420e-01,\n",
      "        5.62226921e-02,  4.00131159e-02, -2.99202859e-01,  2.03943793e-02,\n",
      "        3.24221253e-02, -1.67502671e-01, -1.02968752e-01, -8.28565955e-02,\n",
      "        1.68246537e-01,  8.89069065e-02, -9.68168452e-02, -1.01367734e-01,\n",
      "        1.90847829e-01, -1.46385282e-01, -8.60675648e-02,  4.44695912e-02,\n",
      "       -1.34764701e-01, -1.83683112e-01, -3.16084117e-01,  7.38672465e-02,\n",
      "        3.31530243e-01,  1.66965872e-01, -1.60797849e-01,  6.01323135e-02,\n",
      "       -8.59966874e-02, -1.90939717e-02,  8.37582648e-02,  1.03029244e-01,\n",
      "       -7.70932883e-02, -2.86568291e-02, -3.48666012e-02,  9.03801620e-02,\n",
      "        9.85831916e-02, -1.00375280e-01, -1.09210797e-01,  2.43804738e-01,\n",
      "        7.54469410e-02, -1.05542839e-01,  1.03579208e-01,  3.59863788e-02,\n",
      "       -9.40370187e-02,  2.06682794e-02, -1.33963719e-01, -3.85950878e-03,\n",
      "        1.26162708e-01, -1.36968896e-01,  1.09764934e-01,  5.49074560e-02,\n",
      "       -1.78522348e-01,  2.87640274e-01,  4.87549677e-02, -3.12544107e-02,\n",
      "        8.00374374e-02, -1.34840488e-01, -8.20497647e-02,  5.99444518e-03,\n",
      "        2.20920980e-01, -2.51045614e-01,  2.25224704e-01,  1.35522664e-01,\n",
      "        3.75351980e-02,  1.73541367e-01,  8.08554366e-02,  7.33820647e-02,\n",
      "       -4.92497310e-02,  2.66966466e-02, -1.44470349e-01, -6.88729361e-02,\n",
      "        1.31834343e-01, -1.37715722e-02,  7.84685537e-02,  3.78533304e-02])}\n"
     ]
    }
   ],
   "source": [
    "print(all_face_encodings)"
   ]
  },
  {
   "cell_type": "code",
   "execution_count": null,
   "metadata": {},
   "outputs": [],
   "source": [
    "class astro:\n",
    "    fName = \"\"\n",
    "    lName = \"\"\n",
    "    mName = \"\"\n",
    "    country = \"\"\n",
    "    facialData = None\n",
    "    filename = \"\"\n",
    "    \n",
    "    def __init__(self, country: str, fName : str, lName : str, mName  = \"\"):\n",
    "        self.fName = fName\n",
    "        self.lName = lName\n",
    "        self.mName = mName\n",
    "        self.country = country\n",
    "        self.filename = \"{0}_{1}&{2}\".format(fName, lName, country)\n",
    "        \n",
    "    def trainModel(self, imageFilepath):\n",
    "        known = face_recognition.load_image_file(imageFilepath)\n",
    "        self.facialData = face_recognition.face_encodings(known)[0]\n",
    "    \n",
    "    def saveData(self, filePath = \"\"):\n",
    "        tempDict = {}\n",
    "        tempDict[self.filename] = self.facialData\n",
    "        with open(\"{0}{1}.dat\".format(filePath, self.filename), 'wb') as f:\n",
    "            pickle.dump(tempDict, f)\n",
    "            \n",
    "    def loadData(self, filePath = \"\"):\n",
    "        tempDict = {}\n",
    "        with open(\"{0}{1}.dat\".format(filePath, self.filename), 'rb') as f:\n",
    "           tempDict = pickle.load(f)\n",
    "        facialData = tempDict[self.filename]\n",
    "    \n",
    "    def checkFace(self, faceEncoding):\n",
    "        return face_recognition.compare_faces([self.facialData], faceEncoding)"
   ]
  },
  {
   "cell_type": "code",
   "execution_count": null,
   "metadata": {},
   "outputs": [],
   "source": [
    "tempAstro = astro(\"usa\", \"andre\", \"kuipers\")\n",
    "tempAstro.trainModel(\"./temp/Andre_Kuipers-Andre_Kuipers.jpg\")"
   ]
  },
  {
   "cell_type": "code",
   "execution_count": null,
   "metadata": {},
   "outputs": [],
   "source": [
    "print(tempAstro.checkFace(unknown_encoding))"
   ]
  },
  {
   "cell_type": "code",
   "execution_count": null,
   "metadata": {},
   "outputs": [],
   "source": [
    "tempAstro.saveData()\n",
    "print(tempAstro.facialData)\n",
    "tempAstro.facialData = None\n",
    "print(tempAstro.facialData)"
   ]
  },
  {
   "cell_type": "code",
   "execution_count": null,
   "metadata": {},
   "outputs": [],
   "source": [
    "print(tempAstro.checkFace(unknown_encoding))"
   ]
  },
  {
   "cell_type": "code",
   "execution_count": null,
   "metadata": {},
   "outputs": [],
   "source": [
    "tempAstro.loadData()"
   ]
  },
  {
   "cell_type": "code",
   "execution_count": null,
   "metadata": {},
   "outputs": [],
   "source": [
    "print(tempAstro.checkFace(unknown_encoding))"
   ]
  },
  {
   "cell_type": "code",
   "execution_count": null,
   "metadata": {},
   "outputs": [],
   "source": []
  }
 ],
 "metadata": {
  "kernelspec": {
   "display_name": "Python 3",
   "language": "python",
   "name": "python3"
  },
  "language_info": {
   "codemirror_mode": {
    "name": "ipython",
    "version": 3
   },
   "file_extension": ".py",
   "mimetype": "text/x-python",
   "name": "python",
   "nbconvert_exporter": "python",
   "pygments_lexer": "ipython3",
   "version": "3.7.4"
  }
 },
 "nbformat": 4,
 "nbformat_minor": 4
}
