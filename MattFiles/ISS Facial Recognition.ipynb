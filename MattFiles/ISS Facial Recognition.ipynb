{
 "cells": [
  {
   "cell_type": "code",
   "execution_count": 1,
   "metadata": {},
   "outputs": [],
   "source": [
    "import face_recognition # https://github.com/ageitgey/face_recognition\n",
    "from PIL import Image # https://pillow.readthedocs.io/en/stable/\n"
   ]
  },
  {
   "cell_type": "code",
   "execution_count": 3,
   "metadata": {},
   "outputs": [],
   "source": [
    "image = face_recognition.load_image_file(\"catherine_coleman|usa.jpg\")\n",
    "face_locations = face_recognition.face_locations(image)"
   ]
  },
  {
   "cell_type": "code",
   "execution_count": 4,
   "metadata": {},
   "outputs": [],
   "source": [
    "def transformCoord(coordinates):\n",
    "    return (coordinates[3], coordinates[0], coordinates[1], coordinates[2])"
   ]
  },
  {
   "cell_type": "code",
   "execution_count": 17,
   "metadata": {},
   "outputs": [],
   "source": [
    "# (x, y, w+x, h+y)\n",
    "# facial = (top, right, bottom, left)\n",
    "# Other = (left, top, right, down)\n",
    "\n",
    "# for i in face_locations:\n",
    "#     Image.open(\"catherine_coleman|usa.jpg\").crop(transformCoord(i))\n",
    "\n",
    "# k = Image.open(\"catherine_coleman|usa.jpg\").crop(transformCoord(face_locations[0]))\n",
    "known_image = face_recognition.load_image_file(\"catherine_coleman|usa.jpg\")\n",
    "andresFace = face_recognition.load_image_file(\"Andre Kuipers.jpg\")\n",
    "\n",
    "unknown_image = face_recognition.load_image_file(\"Cady Coleman.jpg\")\n",
    "kadyFace = face_recognition.face_encodings(known_image)[0]\n",
    "\n",
    "unknown_encoding = face_recognition.face_encodings(unknown_image)[0]\n",
    "unknown_encoding1 = face_recognition.face_encodings(andresFace)[0]\n",
    "\n",
    "results = face_recognition.compare_faces([kadyFace], unknown_encoding)\n",
    "results1 = face_recognition.compare_faces([kadyFace], unknown_encoding1)"
   ]
  },
  {
   "cell_type": "code",
   "execution_count": 16,
   "metadata": {},
   "outputs": [
    {
     "name": "stdout",
     "output_type": "stream",
     "text": [
      "[True]\n",
      "[False]\n"
     ]
    }
   ],
   "source": [
    "print(results)\n",
    "print(results1)"
   ]
  },
  {
   "cell_type": "code",
   "execution_count": null,
   "metadata": {},
   "outputs": [],
   "source": []
  }
 ],
 "metadata": {
  "kernelspec": {
   "display_name": "Python 3",
   "language": "python",
   "name": "python3"
  },
  "language_info": {
   "codemirror_mode": {
    "name": "ipython",
    "version": 3
   },
   "file_extension": ".py",
   "mimetype": "text/x-python",
   "name": "python",
   "nbconvert_exporter": "python",
   "pygments_lexer": "ipython3",
   "version": "3.7.4"
  }
 },
 "nbformat": 4,
 "nbformat_minor": 4
}
